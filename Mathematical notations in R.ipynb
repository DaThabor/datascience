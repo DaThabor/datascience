{
 "cells": [
  {
   "cell_type": "markdown",
   "metadata": {
    "collapsed": true
   },
   "source": [
    "# R Data Science PlayBook - Mathematical notations"
   ]
  },
  {
   "cell_type": "markdown",
   "metadata": {},
   "source": [
    "This PlayBook is used as reference material to all learnings in R. Starting from the basics as learned in modules in DataCamp courses, Microsoft Data Science Program and working with different datasets (personal learning). This PlayBook is not to give a full course on R, but it will help with the most common actions to perform, while doing a (Data Science) analysis of a dataset."
   ]
  },
  {
   "cell_type": "markdown",
   "metadata": {},
   "source": [
    "## Use mathematical notation in markdown text\n",
    "\n",
    "This is a text which has a mathematical text in it. It shows the formula $e = mc^2$\n",
    "\n",
    "The notation for a formula = \"dollarsign\" formula notation \"dollarsign\"\n",
    "\n",
    "Below some specific examples used in text"
   ]
  },
  {
   "cell_type": "markdown",
   "metadata": {},
   "source": [
    "### Adding i,j as part of x"
   ]
  },
  {
   "cell_type": "markdown",
   "metadata": {},
   "source": [
    "In general, we will let <font color='red'>$x_{i,j}$ </font> represent the value of the _j_ th variable for the _i_ th observation, where _i_ = 1,2...,_n_ and _j_ = 1,2,...,_p_. Throughout this book, _i_ will be used to index the samples or observations (from 1 to _n_) and _j_ will be used to index the variables (from 1 to _p_). We let *X* denote a _n_ x _p_ matrix whose (_i_,_j_)th element is $x_{i,j}$. That is,"
   ]
  },
  {
   "cell_type": "markdown",
   "metadata": {},
   "source": [
    "### Adding vectors of i,j as part of x till the nth observations\n",
    "\n",
    "For readers who are unfamilair with matrices, it is useful to visualize *X* as a spreadsheet of numbers with _n_ rows and _p_ columns. At times we will be interested in the rows of *X*, which we write as <font color='red'>$x_{1}, x_{2},...,x_{n}$</font> Here $x_{i}$ is a vector of length _p_, containing the _p_ variable measurements for the _i_ th observation. That is, "
   ]
  },
  {
   "cell_type": "markdown",
   "metadata": {},
   "source": [
    "### Use of more complex notations in text\n",
    "\n",
    "Occassionally we will want to indicate the dimension of a particular object. To indicate that an object is a scalar, we will use the notation $a \\in \\Re$ . To indicate that it is a vector of length _k_ , we will use $a \\in \\Re_{k}$ (or $a \\in \\Re_{n}$ if it is of length _n_ ). We will indicate that an object is a r x s matrix using $A \\in \\Re^{r x s}$ .  In some rare instances it is important to understand the concept of multiplying two matrices. Suppose that <font color='red'>$A \\in \\Re^{rxd}$</font> and $B \\in \\Re^{dxs}$ . Then the product of A and B is denoted AB. The ( _i_ , _j_ )th element of AB is computed by ultiplying each element of the _i_ th row of A by the corresponding element of the _j_ th column of B. That is <font color='red'>(AB)$_{ij}$ =  $\\sum_{k=1}^{d} a_{ik}b_{kj}$</font> ."
   ]
  },
  {
   "cell_type": "markdown",
   "metadata": {},
   "source": [
    "## Use mathematical formulas\n",
    "\n",
    "Below some specific examples used in text\n",
    "\n",
    "### A matrix"
   ]
  },
  {
   "cell_type": "markdown",
   "metadata": {},
   "source": [
    "$$X =\n",
    " \\begin{pmatrix}\n",
    "  x_{11} & x_{12} & \\cdots & x_{1p} \\\\\n",
    "  x_{21} & x_{22} & \\cdots & x_{2p} \\\\\n",
    "  \\vdots  & \\vdots  & \\ddots & \\vdots  \\\\\n",
    "  x_{n1} & x_{n2} & \\cdots & x_{np}\n",
    " \\end{pmatrix}$$"
   ]
  },
  {
   "cell_type": "markdown",
   "metadata": {},
   "source": [
    "### One Column matrix"
   ]
  },
  {
   "cell_type": "markdown",
   "metadata": {},
   "source": [
    "$$x_{j} =\n",
    " \\begin{pmatrix}\n",
    "  x_{1j}\\\\\n",
    "  x_{2j}\\\\\n",
    "  \\vdots\\\\\n",
    "  x_{nj}\n",
    " \\end{pmatrix}$$"
   ]
  },
  {
   "cell_type": "markdown",
   "metadata": {},
   "source": [
    "### Use of superscript in formula"
   ]
  },
  {
   "cell_type": "markdown",
   "metadata": {},
   "source": [
    "$x_i^T$ = ( $x_{i1}$ $x_{i2}$ ... $x_{ip}$ )."
   ]
  },
  {
   "cell_type": "markdown",
   "metadata": {},
   "source": [
    "### Use of equation function to show multiple different mathematical notations"
   ]
  },
  {
   "cell_type": "markdown",
   "metadata": {},
   "source": [
    "$$\\begin{equation} \n",
    "A = \n",
    "\\begin{pmatrix}\n",
    "1 & 2 \\\\\n",
    "3 & 4 \\\\ \n",
    "\\end{pmatrix}\n",
    " and, \n",
    "B =\n",
    "\\begin{pmatrix}\n",
    " 5 & 6 \\\\\n",
    " 7 & 8 \\\\\n",
    "\\end{pmatrix}\n",
    "\\end{equation}$$\n",
    "    \n",
    "Then"
   ]
  },
  {
   "cell_type": "markdown",
   "metadata": {},
   "source": [
    "$$\\begin{equation} \n",
    "AB = \n",
    "\\begin{pmatrix}\n",
    "1 & 2 \\\\\n",
    "3 & 4 \\\\ \n",
    "\\end{pmatrix}\n",
    "\\begin{pmatrix}\n",
    " 5 & 6 \\\\\n",
    " 7 & 8 \\\\\n",
    "\\end{pmatrix}\n",
    "=\n",
    "\\begin{pmatrix}\n",
    " 1 * 5 + 2 * 7 & 1 * 6 + 2 * 8 \\\\\n",
    " 3 * 5 + 4 * 7 & 3 * 6 + 4 * 8 \\\\\n",
    "\\end{pmatrix}\n",
    "=\n",
    "\\begin{pmatrix}\n",
    "19 & 22 \\\\\n",
    "43 & 50 \\\\ \n",
    "\\end{pmatrix}\n",
    "\\end{equation}$$"
   ]
  },
  {
   "cell_type": "code",
   "execution_count": null,
   "metadata": {},
   "outputs": [],
   "source": []
  }
 ],
 "metadata": {
  "kernelspec": {
   "display_name": "R",
   "language": "R",
   "name": "r"
  },
  "language_info": {
   "codemirror_mode": "r",
   "file_extension": ".r",
   "mimetype": "text/x-r-source",
   "name": "R",
   "pygments_lexer": "r",
   "version": "3.4.1"
  }
 },
 "nbformat": 4,
 "nbformat_minor": 2
}
