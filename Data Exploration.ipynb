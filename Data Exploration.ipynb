{
 "cells": [
  {
   "cell_type": "markdown",
   "metadata": {
    "collapsed": true
   },
   "source": [
    "# R Data Science PlayBook - Data Exploration"
   ]
  },
  {
   "cell_type": "markdown",
   "metadata": {},
   "source": [
    "This PlayBook is used as reference material to all learnings in R. Starting from the basics as learned in modules in DataCamp courses, Microsoft Data Science Program and working with different datasets (personal learning). This PlayBook is not to give a full course on R, but it will help with the most common actions to perform, while doing a (Data Science) analysis of a dataset."
   ]
  },
  {
   "cell_type": "markdown",
   "metadata": {},
   "source": [
    "## Basic exploratory actions"
   ]
  },
  {
   "cell_type": "markdown",
   "metadata": {},
   "source": [
    "### Look at the data"
   ]
  },
  {
   "cell_type": "markdown",
   "metadata": {},
   "source": [
    "Explore the first 6 observations (rows) of the dataset"
   ]
  },
  {
   "cell_type": "code",
   "execution_count": 7,
   "metadata": {},
   "outputs": [
    {
     "data": {
      "text/html": [
       "<table>\n",
       "<thead><tr><th scope=col>x1</th><th scope=col>x2</th><th scope=col>x3</th><th scope=col>x4</th></tr></thead>\n",
       "<tbody>\n",
       "\t<tr><td>1 </td><td>21</td><td>31</td><td>41</td></tr>\n",
       "\t<tr><td>2 </td><td>22</td><td>32</td><td>42</td></tr>\n",
       "\t<tr><td>3 </td><td>23</td><td>33</td><td>43</td></tr>\n",
       "\t<tr><td>4 </td><td>24</td><td>34</td><td>44</td></tr>\n",
       "\t<tr><td>5 </td><td>25</td><td>35</td><td>45</td></tr>\n",
       "\t<tr><td>6 </td><td>26</td><td>36</td><td>46</td></tr>\n",
       "</tbody>\n",
       "</table>\n"
      ],
      "text/latex": [
       "\\begin{tabular}{r|llll}\n",
       " x1 & x2 & x3 & x4\\\\\n",
       "\\hline\n",
       "\t 1  & 21 & 31 & 41\\\\\n",
       "\t 2  & 22 & 32 & 42\\\\\n",
       "\t 3  & 23 & 33 & 43\\\\\n",
       "\t 4  & 24 & 34 & 44\\\\\n",
       "\t 5  & 25 & 35 & 45\\\\\n",
       "\t 6  & 26 & 36 & 46\\\\\n",
       "\\end{tabular}\n"
      ],
      "text/markdown": [
       "\n",
       "x1 | x2 | x3 | x4 | \n",
       "|---|---|---|---|---|---|\n",
       "| 1  | 21 | 31 | 41 | \n",
       "| 2  | 22 | 32 | 42 | \n",
       "| 3  | 23 | 33 | 43 | \n",
       "| 4  | 24 | 34 | 44 | \n",
       "| 5  | 25 | 35 | 45 | \n",
       "| 6  | 26 | 36 | 46 | \n",
       "\n",
       "\n"
      ],
      "text/plain": [
       "  x1 x2 x3 x4\n",
       "1 1  21 31 41\n",
       "2 2  22 32 42\n",
       "3 3  23 33 43\n",
       "4 4  24 34 44\n",
       "5 5  25 35 45\n",
       "6 6  26 36 46"
      ]
     },
     "metadata": {},
     "output_type": "display_data"
    }
   ],
   "source": [
    "expl_x <- data.frame(x1=1:20,x2 =21:30,x3 =31:40,x4 =41:50)\n",
    "head(expl_x)"
   ]
  },
  {
   "cell_type": "markdown",
   "metadata": {},
   "source": [
    "Explore the last 6 observations (rows) of the dataset"
   ]
  },
  {
   "cell_type": "code",
   "execution_count": 8,
   "metadata": {},
   "outputs": [
    {
     "data": {
      "text/html": [
       "<table>\n",
       "<thead><tr><th></th><th scope=col>x1</th><th scope=col>x2</th><th scope=col>x3</th><th scope=col>x4</th></tr></thead>\n",
       "<tbody>\n",
       "\t<tr><th scope=row>15</th><td>15</td><td>25</td><td>35</td><td>45</td></tr>\n",
       "\t<tr><th scope=row>16</th><td>16</td><td>26</td><td>36</td><td>46</td></tr>\n",
       "\t<tr><th scope=row>17</th><td>17</td><td>27</td><td>37</td><td>47</td></tr>\n",
       "\t<tr><th scope=row>18</th><td>18</td><td>28</td><td>38</td><td>48</td></tr>\n",
       "\t<tr><th scope=row>19</th><td>19</td><td>29</td><td>39</td><td>49</td></tr>\n",
       "\t<tr><th scope=row>20</th><td>20</td><td>30</td><td>40</td><td>50</td></tr>\n",
       "</tbody>\n",
       "</table>\n"
      ],
      "text/latex": [
       "\\begin{tabular}{r|llll}\n",
       "  & x1 & x2 & x3 & x4\\\\\n",
       "\\hline\n",
       "\t15 & 15 & 25 & 35 & 45\\\\\n",
       "\t16 & 16 & 26 & 36 & 46\\\\\n",
       "\t17 & 17 & 27 & 37 & 47\\\\\n",
       "\t18 & 18 & 28 & 38 & 48\\\\\n",
       "\t19 & 19 & 29 & 39 & 49\\\\\n",
       "\t20 & 20 & 30 & 40 & 50\\\\\n",
       "\\end{tabular}\n"
      ],
      "text/markdown": [
       "\n",
       "| <!--/--> | x1 | x2 | x3 | x4 | \n",
       "|---|---|---|---|---|---|\n",
       "| 15 | 15 | 25 | 35 | 45 | \n",
       "| 16 | 16 | 26 | 36 | 46 | \n",
       "| 17 | 17 | 27 | 37 | 47 | \n",
       "| 18 | 18 | 28 | 38 | 48 | \n",
       "| 19 | 19 | 29 | 39 | 49 | \n",
       "| 20 | 20 | 30 | 40 | 50 | \n",
       "\n",
       "\n"
      ],
      "text/plain": [
       "   x1 x2 x3 x4\n",
       "15 15 25 35 45\n",
       "16 16 26 36 46\n",
       "17 17 27 37 47\n",
       "18 18 28 38 48\n",
       "19 19 29 39 49\n",
       "20 20 30 40 50"
      ]
     },
     "metadata": {},
     "output_type": "display_data"
    }
   ],
   "source": [
    "tail(expl_x)"
   ]
  },
  {
   "cell_type": "markdown",
   "metadata": {},
   "source": [
    "Look at the structure of the dataset"
   ]
  },
  {
   "cell_type": "code",
   "execution_count": 9,
   "metadata": {},
   "outputs": [
    {
     "name": "stdout",
     "output_type": "stream",
     "text": [
      "'data.frame':\t20 obs. of  4 variables:\n",
      " $ x1: int  1 2 3 4 5 6 7 8 9 10 ...\n",
      " $ x2: int  21 22 23 24 25 26 27 28 29 30 ...\n",
      " $ x3: int  31 32 33 34 35 36 37 38 39 40 ...\n",
      " $ x4: int  41 42 43 44 45 46 47 48 49 50 ...\n"
     ]
    }
   ],
   "source": [
    "str(expl_x)"
   ]
  },
  {
   "cell_type": "markdown",
   "metadata": {},
   "source": [
    "Look at the dimensions of the dataset"
   ]
  },
  {
   "cell_type": "code",
   "execution_count": 10,
   "metadata": {},
   "outputs": [
    {
     "data": {
      "text/html": [
       "<ol class=list-inline>\n",
       "\t<li>20</li>\n",
       "\t<li>4</li>\n",
       "</ol>\n"
      ],
      "text/latex": [
       "\\begin{enumerate*}\n",
       "\\item 20\n",
       "\\item 4\n",
       "\\end{enumerate*}\n"
      ],
      "text/markdown": [
       "1. 20\n",
       "2. 4\n",
       "\n",
       "\n"
      ],
      "text/plain": [
       "[1] 20  4"
      ]
     },
     "metadata": {},
     "output_type": "display_data"
    }
   ],
   "source": [
    "dim(expl_x)"
   ]
  },
  {
   "cell_type": "markdown",
   "metadata": {},
   "source": [
    "## Finding Numeric and Categorical Columns in dataset"
   ]
  },
  {
   "cell_type": "markdown",
   "metadata": {},
   "source": [
    "#### Numeric Columns\n",
    "\n",
    "In every dataset you would like to find which columns are numeric columns (and with that the categorical columns or features). The numeric columns can be used in optimizing your model. For example by normalizing the data, grouping the categrocial features (for which you need to know the numeric columns and exclude them)."
   ]
  },
  {
   "cell_type": "code",
   "execution_count": 1,
   "metadata": {},
   "outputs": [
    {
     "data": {
      "text/html": [
       "<table>\n",
       "<thead><tr><th scope=col>v1</th><th scope=col>v2</th><th scope=col>v3</th></tr></thead>\n",
       "<tbody>\n",
       "\t<tr><td>1</td><td>1</td><td>1</td></tr>\n",
       "\t<tr><td>2</td><td>2</td><td>2</td></tr>\n",
       "</tbody>\n",
       "</table>\n"
      ],
      "text/latex": [
       "\\begin{tabular}{r|lll}\n",
       " v1 & v2 & v3\\\\\n",
       "\\hline\n",
       "\t 1 & 1 & 1\\\\\n",
       "\t 2 & 2 & 2\\\\\n",
       "\\end{tabular}\n"
      ],
      "text/markdown": [
       "\n",
       "v1 | v2 | v3 | \n",
       "|---|---|\n",
       "| 1 | 1 | 1 | \n",
       "| 2 | 2 | 2 | \n",
       "\n",
       "\n"
      ],
      "text/plain": [
       "  v1 v2 v3\n",
       "1 1  1  1 \n",
       "2 2  2  2 "
      ]
     },
     "metadata": {},
     "output_type": "display_data"
    }
   ],
   "source": [
    "#First create a data frame with numeric and categorical data or use an exisiting datatset as input\n",
    "x <- data.frame(v1=1:2,v2=1:2,v3=1:2,v4=as.factor(c(\"a example\", \"b example\")))\n",
    "\n",
    "nums <- sapply(x, is.numeric)\n",
    "\n",
    "x[,nums]"
   ]
  },
  {
   "cell_type": "markdown",
   "metadata": {},
   "source": [
    "Columns v1 to v3 are all numeric columns and column v4 not. In this example column v4 is excluded, which leaves us with the numeric columns only"
   ]
  },
  {
   "cell_type": "markdown",
   "metadata": {},
   "source": [
    "### Categorical Columns\n",
    "\n",
    "While excluding the numeric columns, we will be left with the categorical columns as shown below:"
   ]
  },
  {
   "cell_type": "code",
   "execution_count": 2,
   "metadata": {},
   "outputs": [
    {
     "data": {
      "text/html": [
       "'logical'"
      ],
      "text/latex": [
       "'logical'"
      ],
      "text/markdown": [
       "'logical'"
      ],
      "text/plain": [
       "[1] \"logical\""
      ]
     },
     "metadata": {},
     "output_type": "display_data"
    },
    {
     "data": {
      "text/html": [
       "<ol class=list-inline>\n",
       "\t<li>a example</li>\n",
       "\t<li>b example</li>\n",
       "</ol>\n",
       "\n",
       "<details>\n",
       "\t<summary style=display:list-item;cursor:pointer>\n",
       "\t\t<strong>Levels</strong>:\n",
       "\t</summary>\n",
       "\t<ol class=list-inline>\n",
       "\t\t<li>'a example'</li>\n",
       "\t\t<li>'b example'</li>\n",
       "\t</ol>\n",
       "</details>"
      ],
      "text/latex": [
       "\\begin{enumerate*}\n",
       "\\item a example\n",
       "\\item b example\n",
       "\\end{enumerate*}\n",
       "\n",
       "\\emph{Levels}: \\begin{enumerate*}\n",
       "\\item 'a example'\n",
       "\\item 'b example'\n",
       "\\end{enumerate*}\n"
      ],
      "text/markdown": [
       "1. a example\n",
       "2. b example\n",
       "\n",
       "\n",
       "\n",
       "**Levels**: 1. 'a example'\n",
       "2. 'b example'\n",
       "\n",
       "\n"
      ],
      "text/plain": [
       "[1] a example b example\n",
       "Levels: a example b example"
      ]
     },
     "metadata": {},
     "output_type": "display_data"
    }
   ],
   "source": [
    "cat <- !sapply(x, is.numeric)\n",
    "\n",
    "typeof(cat)\n",
    "\n",
    "x[,cat]"
   ]
  },
  {
   "cell_type": "markdown",
   "metadata": {},
   "source": [
    "After splitting the data, it will be easier to do analysis on the dataset and create appropriate graphs and models."
   ]
  },
  {
   "cell_type": "code",
   "execution_count": null,
   "metadata": {},
   "outputs": [],
   "source": []
  }
 ],
 "metadata": {
  "kernelspec": {
   "display_name": "R",
   "language": "R",
   "name": "r"
  },
  "language_info": {
   "codemirror_mode": "r",
   "file_extension": ".r",
   "mimetype": "text/x-r-source",
   "name": "R",
   "pygments_lexer": "r",
   "version": "3.4.1"
  }
 },
 "nbformat": 4,
 "nbformat_minor": 2
}
